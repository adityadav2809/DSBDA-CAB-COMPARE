{
 "cells": [
  {
   "cell_type": "code",
   "execution_count": null,
   "id": "8849fc39-c41d-47ea-b84a-6a14d0b5c2e1",
   "metadata": {
    "editable": true,
    "scrolled": true,
    "slideshow": {
     "slide_type": ""
    },
    "tags": []
   },
   "outputs": [
    {
     "name": "stdout",
     "output_type": "stream",
     "text": [
      "\n",
      "\u001b[95m========== CAB FARE COMPARATOR MENU ==========\u001b[0m\n",
      "\u001b[96m[N] New Fare Search\n",
      "[H] View Recent Searches\n",
      "[E] Exit\u001b[0m\n",
      "\n"
     ]
    },
    {
     "name": "stdin",
     "output_type": "stream",
     "text": [
      "\u001b[94m👉 Press your choice key: \u001b[0m n\n"
     ]
    },
    {
     "name": "stdout",
     "output_type": "stream",
     "text": [
      "\n",
      "\u001b[95m================ CAB FARE COMPARATOR =================\u001b[0m\n"
     ]
    },
    {
     "name": "stdin",
     "output_type": "stream",
     "text": [
      "\u001b[94m📍 Starting Point: \u001b[0m pune\n",
      "\u001b[94m📍 Destination Point: \u001b[0m delhi\n"
     ]
    },
    {
     "name": "stdout",
     "output_type": "stream",
     "text": [
      "\n",
      "🚘 Select Ride Type:\n",
      "1. Mini\n",
      "2. Sedan\n",
      "3. SUV\n",
      "4. Auto\n",
      "5. Bike\n"
     ]
    },
    {
     "name": "stdin",
     "output_type": "stream",
     "text": [
      "\u001b[96m👉 Press a number key (1-5): \u001b[0m 1\n"
     ]
    },
    {
     "name": "stdout",
     "output_type": "stream",
     "text": [
      "\u001b[92mMini selected!\u001b[0m\n",
      "\n",
      "\u001b[92m📏 Distance: 1396.94 km | ⏱️ ETA: 1447 min | 🚘 Ride: Mini\u001b[0m\n",
      "\n",
      "\u001b[95m✅ Best Option: Uber — ₹18474.61\u001b[0m\n",
      "\n",
      "\u001b[96m💰 All Mini Ride Fares:\u001b[0m\n",
      "\u001b[92m🚖 Uber: ₹18474.61\u001b[0m\n",
      "\u001b[92m🚖 InDrive: ₹20151.94\u001b[0m\n",
      "\u001b[92m🚖 Ola: ₹20153.94\u001b[0m\n",
      "\u001b[92m🚖 Jugnoo Booking: ₹21829.26\u001b[0m\n",
      "\u001b[92m🚖 Rapido: ₹21832.26\u001b[0m\n",
      "Here is your Google Maps route link: https://www.google.com/maps/dir/pune/delhi\n",
      "\n",
      "\u001b[95m========== CAB FARE COMPARATOR MENU ==========\u001b[0m\n",
      "\u001b[96m[N] New Fare Search\n",
      "[H] View Recent Searches\n",
      "[E] Exit\u001b[0m\n",
      "\n"
     ]
    },
    {
     "name": "stdin",
     "output_type": "stream",
     "text": [
      "\u001b[94m👉 Press your choice key: \u001b[0m n\n"
     ]
    },
    {
     "name": "stdout",
     "output_type": "stream",
     "text": [
      "\n",
      "\u001b[95m================ CAB FARE COMPARATOR =================\u001b[0m\n"
     ]
    },
    {
     "name": "stdin",
     "output_type": "stream",
     "text": [
      "\u001b[94m📍 Starting Point: \u001b[0m delhi\n",
      "\u001b[94m📍 Destination Point: \u001b[0m amritsar\n"
     ]
    },
    {
     "name": "stdout",
     "output_type": "stream",
     "text": [
      "\n",
      "🚘 Select Ride Type:\n",
      "1. Mini\n",
      "2. Sedan\n",
      "3. SUV\n",
      "4. Auto\n",
      "5. Bike\n"
     ]
    },
    {
     "name": "stdin",
     "output_type": "stream",
     "text": [
      "\u001b[96m👉 Press a number key (1-5): \u001b[0m 1\n"
     ]
    },
    {
     "name": "stdout",
     "output_type": "stream",
     "text": [
      "\u001b[92mMini selected!\u001b[0m\n",
      "\n",
      "\u001b[92m📏 Distance: 448.85 km | ⏱️ ETA: 442 min | 🚘 Ride: Mini\u001b[0m\n",
      "\n",
      "\u001b[95m✅ Best Option: Uber — ₹5959.82\u001b[0m\n",
      "\n",
      "\u001b[96m💰 All Mini Ride Fares:\u001b[0m\n",
      "\u001b[92m🚖 Uber: ₹5959.82\u001b[0m\n",
      "\u001b[92m🚖 InDrive: ₹6499.44\u001b[0m\n",
      "\u001b[92m🚖 Ola: ₹6501.44\u001b[0m\n",
      "\u001b[92m🚖 Jugnoo Booking: ₹7039.06\u001b[0m\n",
      "\u001b[92m🚖 Rapido: ₹7042.06\u001b[0m\n",
      "Here is your Google Maps route link: https://www.google.com/maps/dir/delhi/amritsar\n",
      "\n",
      "\u001b[95m========== CAB FARE COMPARATOR MENU ==========\u001b[0m\n",
      "\u001b[96m[N] New Fare Search\n",
      "[H] View Recent Searches\n",
      "[E] Exit\u001b[0m\n",
      "\n"
     ]
    },
    {
     "name": "stdin",
     "output_type": "stream",
     "text": [
      "\u001b[94m👉 Press your choice key: \u001b[0m jaipur \n"
     ]
    },
    {
     "name": "stdout",
     "output_type": "stream",
     "text": [
      "\u001b[93m⚠️ Invalid key 'jaipur'. Please press N, H, or E.\u001b[0m\n",
      "\n",
      "\u001b[95m========== CAB FARE COMPARATOR MENU ==========\u001b[0m\n",
      "\u001b[96m[N] New Fare Search\n",
      "[H] View Recent Searches\n",
      "[E] Exit\u001b[0m\n",
      "\n"
     ]
    },
    {
     "name": "stdin",
     "output_type": "stream",
     "text": [
      "\u001b[94m👉 Press your choice key: \u001b[0m n\n"
     ]
    },
    {
     "name": "stdout",
     "output_type": "stream",
     "text": [
      "\n",
      "\u001b[95m================ CAB FARE COMPARATOR =================\u001b[0m\n"
     ]
    },
    {
     "name": "stdin",
     "output_type": "stream",
     "text": [
      "\u001b[94m📍 Starting Point: \u001b[0m jaipur\n",
      "\u001b[94m📍 Destination Point: \u001b[0m kashmir\n"
     ]
    },
    {
     "name": "stdout",
     "output_type": "stream",
     "text": [
      "\n",
      "🚘 Select Ride Type:\n",
      "1. Mini\n",
      "2. Sedan\n",
      "3. SUV\n",
      "4. Auto\n",
      "5. Bike\n"
     ]
    },
    {
     "name": "stdin",
     "output_type": "stream",
     "text": [
      "\u001b[96m👉 Press a number key (1-5): \u001b[0m 2\n"
     ]
    },
    {
     "name": "stdout",
     "output_type": "stream",
     "text": [
      "\u001b[92mSedan selected!\u001b[0m\n",
      "\n",
      "\u001b[92m📏 Distance: 907.16 km | ⏱️ ETA: 1056 min | 🚘 Ride: Sedan\u001b[0m\n",
      "\n",
      "\u001b[95m✅ Best Option: Ola — ₹14196.7\u001b[0m\n",
      "\n",
      "\u001b[96m💰 All Sedan Ride Fares:\u001b[0m\n",
      "\u001b[92m🚖 Ola: ₹14196.7\u001b[0m\n",
      "\u001b[92m🚖 InDrive: ₹15287.29\u001b[0m\n",
      "\u001b[92m🚖 Rapido: ₹15288.29\u001b[0m\n",
      "\u001b[92m🚖 Jugnoo Booking: ₹16374.88\u001b[0m\n",
      "\u001b[92m🚖 Uber: ₹16378.88\u001b[0m\n",
      "Here is your Google Maps route link: https://www.google.com/maps/dir/jaipur/kashmir\n",
      "\n",
      "\u001b[95m========== CAB FARE COMPARATOR MENU ==========\u001b[0m\n",
      "\u001b[96m[N] New Fare Search\n",
      "[H] View Recent Searches\n",
      "[E] Exit\u001b[0m\n",
      "\n"
     ]
    },
    {
     "name": "stdin",
     "output_type": "stream",
     "text": [
      "\u001b[94m👉 Press your choice key: \u001b[0m h\n"
     ]
    },
    {
     "name": "stdout",
     "output_type": "stream",
     "text": [
      "\u001b[94m\n",
      "1. From: pune To: delhi\n",
      "    Ride: Mini | Distance: 1396.94 km | Fare: ₹18474.61 | ETA: 1462 min\n",
      "\u001b[0m\n",
      "\u001b[94m\n",
      "2. From: delhi To: jaipur\n",
      "    Ride: Mini | Distance: 309.44 km | Fare: ₹4119.61 | ETA: 314 min\n",
      "\u001b[0m\n",
      "\u001b[94m\n",
      "3. From: pune To: delhi\n",
      "    Ride: Mini | Distance: 1396.94 km | Fare: ₹18474.61 | ETA: 1447 min\n",
      "\u001b[0m\n",
      "\u001b[94m\n",
      "4. From: delhi To: amritsar\n",
      "    Ride: Mini | Distance: 448.85 km | Fare: ₹5959.82 | ETA: 442 min\n",
      "\u001b[0m\n",
      "\u001b[94m\n",
      "5. From: jaipur To: kashmir\n",
      "    Ride: Sedan | Distance: 907.16 km | Fare: ₹14196.7 | ETA: 1056 min\n",
      "\u001b[0m\n",
      "\n",
      "\u001b[95m========== CAB FARE COMPARATOR MENU ==========\u001b[0m\n",
      "\u001b[96m[N] New Fare Search\n",
      "[H] View Recent Searches\n",
      "[E] Exit\u001b[0m\n",
      "\n"
     ]
    }
   ],
   "source": [
    "import os\n",
    "import datetime\n",
    "import googlemaps\n",
    "from dotenv import load_dotenv\n",
    "import json\n",
    "import readchar\n",
    "import time\n",
    "\n",
    "load_dotenv(\"private.env\")  # Load the correct file\n",
    "\n",
    "# ============ Terminal Color Styling ============\n",
    "class Style:\n",
    "    HEADER = '\\033[95m'\n",
    "    OKBLUE = '\\033[94m'\n",
    "    OKCYAN = '\\033[96m'\n",
    "    OKGREEN = '\\033[92m'\n",
    "    WARNING = '\\033[93m'\n",
    "    FAIL = '\\033[91m'\n",
    "    ENDC = '\\033[0m'\n",
    "\n",
    "# ============ Google Maps API ============\n",
    "API_KEY = os.getenv(\"GOOGLE_MAPS_API_KEY\")\n",
    "if not API_KEY:\n",
    "    print(f\"{Style.FAIL}❌ Please set your GOOGLE_MAPS_API_KEY environment variable in private.env.{Style.ENDC}\")\n",
    "    exit(1)\n",
    "\n",
    "gmaps = googlemaps.Client(key=API_KEY)\n",
    "\n",
    "# ============ Ride Type Selection ============\n",
    "ride_types = {\n",
    "    \"1\": (\"Mini\", 8),\n",
    "    \"2\": (\"Sedan\", 10),\n",
    "    \"3\": (\"SUV\", 15),\n",
    "    \"4\": (\"Auto\", 6),\n",
    "    \"5\": (\"Bike\", 4)\n",
    "}\n",
    "\n",
    "# ============ Cab Companies Fare Config ============\n",
    "cab_services = {\n",
    "    'Uber': {'Mini': (35, 11), 'Sedan': (50, 15), 'SUV': (58, 18), 'Auto': (24, 8), 'Bike': (16, 5)},\n",
    "    'Ola': {'Mini': (38, 12), 'Sedan': (45, 13), 'SUV': (60, 17), 'Auto': (22, 7), 'Bike': (15, 4)},\n",
    "    'Rapido': {'Mini': (40, 13), 'Sedan': (48, 14), 'SUV': (52, 14), 'Auto': (20, 7), 'Bike': (13, 4)},\n",
    "    'InDrive': {'Mini': (36, 12), 'Sedan': (47, 14), 'SUV': (55, 15), 'Auto': (18, 6), 'Bike': (11, 3)},\n",
    "    'Jugnoo Booking': {'Mini': (37, 13), 'Sedan': (46, 15), 'SUV': (57, 16), 'Auto': (21, 7), 'Bike': (10, 2)}\n",
    "}\n",
    "\n",
    "# ============ Get Distance and Time ============\n",
    "def get_distance_km(from_location, to_location):\n",
    "    try:\n",
    "        result = gmaps.distance_matrix(from_location, to_location, mode=\"driving\", departure_time=\"now\", traffic_model=\"best_guess\")\n",
    "        if result[\"status\"] == \"OK\":\n",
    "            element = result[\"rows\"][0][\"elements\"][0]\n",
    "            if element[\"status\"] == \"OK\":\n",
    "                meters = element[\"distance\"][\"value\"]\n",
    "                duration_sec = element[\"duration_in_traffic\"][\"value\"]\n",
    "                return round(meters / 1000, 2), round(duration_sec / 60)\n",
    "            else:\n",
    "                print(f\"{Style.FAIL}❌ Route not found: {element['status']}{Style.ENDC}\")\n",
    "        else:\n",
    "            print(f\"{Style.FAIL}❌ API Error: {result['status']}{Style.ENDC}\")\n",
    "    except Exception as e:\n",
    "        print(f\"{Style.FAIL}❌ Error: {e}{Style.ENDC}\")\n",
    "    return None, None\n",
    "\n",
    "# ============ Calculate Fares ============\n",
    "def get_fares(distance_km, ride_name):\n",
    "    fares = []\n",
    "    now = datetime.datetime.now()\n",
    "    is_peak = 8 <= now.hour <= 11 or 18 <= now.hour <= 21  # Morning & Evening peak\n",
    "\n",
    "    for company, ride_data in cab_services.items():\n",
    "        if ride_name in ride_data:\n",
    "            base_fare, per_km = ride_data[ride_name]\n",
    "            if is_peak:\n",
    "                per_km *= 1.2  # 20% surge\n",
    "            fare = round(base_fare + distance_km * per_km, 2)\n",
    "            fares.append((company, fare))\n",
    "    return sorted(fares, key=lambda x: x[1])\n",
    "\n",
    "# ============ Ride Selection ============\n",
    "def choose_ride_type():\n",
    "    print(f\"\\n🚘 Select Ride Type:\")\n",
    "    for key, (name, _) in ride_types.items():\n",
    "        print(f\"{key}. {name}\")\n",
    "    \n",
    "    while True:\n",
    "        key = input(f\"{Style.OKCYAN}👉 Press a number key (1-{len(ride_types)}): {Style.ENDC}\").strip()\n",
    "        if key in ride_types:\n",
    "            print(f\"{Style.OKGREEN}{ride_types[key][0]} selected!{Style.ENDC}\")\n",
    "            return ride_types[key]\n",
    "        else:\n",
    "            print(f\"{Style.WARNING}⚠️ Invalid selection. Please choose a number between 1 and 5.{Style.ENDC}\")\n",
    "\n",
    "# ============ Show Route Map ============\n",
    "def show_route_map(from_loc, to_loc):\n",
    "    from_q = from_loc.replace(\" \", \"+\")\n",
    "    to_q = to_loc.replace(\" \", \"+\")\n",
    "    url = f\"https://www.google.com/maps/dir/{from_q}/{to_q}\"\n",
    "    print(f\"Here is your Google Maps route link: {url}\")\n",
    "\n",
    "# ============ Save Search History ============\n",
    "def save_search_history(start, end, ride, distance_km, time_min, fare):\n",
    "    filename = \"search_history.json\"\n",
    "    new_search = {\n",
    "        \"start\": start,\n",
    "        \"end\": end,\n",
    "        \"ride\": ride,\n",
    "        \"distance_km\": distance_km,\n",
    "        \"time_min\": time_min,\n",
    "        \"fare\": fare\n",
    "    }\n",
    "\n",
    "    searches = []\n",
    "    if os.path.exists(filename):\n",
    "        with open(filename, \"r\") as file:\n",
    "            try:\n",
    "                searches = json.load(file)\n",
    "            except json.JSONDecodeError:\n",
    "                searches = []\n",
    "\n",
    "    searches.append(new_search)\n",
    "    with open(filename, \"w\") as file:\n",
    "        json.dump(searches, file, indent=4)\n",
    "\n",
    "# ============ View Recent Searches ============\n",
    "def view_recent_searches():\n",
    "    try:\n",
    "        with open('search_history.json', 'r') as file:  # Update the file name here\n",
    "            searches = json.load(file)\n",
    "        \n",
    "        if not searches:\n",
    "            print(f\"{Style.FAIL}❌ No recent searches found.{Style.ENDC}\")\n",
    "            return\n",
    "        \n",
    "        for i, search in enumerate(searches[-5:], start=1):  # Display last 5 searches\n",
    "            try:\n",
    "                # Ensure keys 'start', 'end', etc. exist in the search dictionary\n",
    "                start = search.get('start', 'N/A')\n",
    "                end = search.get('end', 'N/A')\n",
    "                ride = search.get('ride', 'N/A')\n",
    "                distance_km = search.get('distance_km', 'N/A')\n",
    "                fare = search.get('fare', 'N/A')\n",
    "                time_min = search.get('time_min', 'N/A')\n",
    "\n",
    "                print(f\"\"\"{Style.OKBLUE}\n",
    "{i}. From: {start} To: {end}\n",
    "    Ride: {ride} | Distance: {distance_km} km | Fare: ₹{fare} | ETA: {time_min} min\n",
    "{Style.ENDC}\"\"\")\n",
    "            except KeyError as e:\n",
    "                print(f\"{Style.FAIL}❌ Missing expected key: {e}{Style.ENDC}\")\n",
    "    except json.JSONDecodeError:\n",
    "        print(f\"{Style.FAIL}❌ Failed to read recent searches. File might be corrupted.{Style.ENDC}\")\n",
    "    except FileNotFoundError:\n",
    "        print(f\"{Style.FAIL}❌ The file 'search_history.json' does not exist.{Style.ENDC}\")\n",
    "\n",
    "# ============ Main Function ============\n",
    "def calculate_fare():\n",
    "    print(f\"\\n{Style.HEADER}================ CAB FARE COMPARATOR ================={Style.ENDC}\")\n",
    "    from_loc = input(f\"{Style.OKBLUE}📍 Starting Point: {Style.ENDC}\").strip()\n",
    "    to_loc = input(f\"{Style.OKBLUE}📍 Destination Point: {Style.ENDC}\").strip()\n",
    "\n",
    "    distance_km, time_min = get_distance_km(from_loc, to_loc)\n",
    "    if distance_km is None:\n",
    "        return\n",
    "\n",
    "    ride_name, _ = choose_ride_type()\n",
    "    fares = get_fares(distance_km, ride_name)\n",
    "\n",
    "    print(f\"\\n{Style.OKGREEN}📏 Distance: {distance_km} km | ⏱️ ETA: {time_min} min | 🚘 Ride: {ride_name}{Style.ENDC}\")\n",
    "\n",
    "    if fares:\n",
    "        best_company, best_fare = fares[0]\n",
    "        print(f\"\\n{Style.HEADER}✅ Best Option: {best_company} — ₹{best_fare}{Style.ENDC}\")\n",
    "        print(f\"\\n{Style.OKCYAN}💰 All {ride_name} Ride Fares:{Style.ENDC}\")\n",
    "        for company, fare in fares:\n",
    "            print(f\"{Style.OKGREEN}🚖 {company}: ₹{fare}{Style.ENDC}\")\n",
    "    else:\n",
    "        print(f\"{Style.FAIL}❌ No fares found for selected ride type.{Style.ENDC}\")\n",
    "\n",
    "    # Show route map\n",
    "    show_route_map(from_loc, to_loc)\n",
    "    save_search_history(from_loc, to_loc, ride_name, distance_km, time_min, fares[0][1])  # Save the history\n",
    "\n",
    "# ============ Run Menu ============\n",
    "def menu():\n",
    "    while True:\n",
    "        print(f\"\"\"\\n{Style.HEADER}========== CAB FARE COMPARATOR MENU =========={Style.ENDC}\n",
    "{Style.OKCYAN}[N] New Fare Search\n",
    "[H] View Recent Searches\n",
    "[E] Exit{Style.ENDC}\n",
    "\"\"\")\n",
    "        key = input(f\"{Style.OKBLUE}👉 Press your choice key: {Style.ENDC}\").strip().lower()\n",
    "\n",
    "        if key == \"n\":\n",
    "            calculate_fare()\n",
    "        elif key == \"h\":\n",
    "            view_recent_searches()\n",
    "        elif key == \"e\":\n",
    "            print(f\"{Style.OKGREEN}👋 Exiting. Thank you for using Cab Fare Comparator!{Style.ENDC}\")\n",
    "            break\n",
    "        else:\n",
    "            print(f\"{Style.WARNING}⚠️ Invalid key '{key}'. Please press N, H, or E.{Style.ENDC}\")\n",
    "\n",
    "# Entry point\n",
    "if __name__ == \"__main__\":\n",
    "    menu()\n"
   ]
  },
  {
   "cell_type": "code",
   "execution_count": null,
   "id": "9dc0e0aa-2c2e-41d7-800d-1625290aeb76",
   "metadata": {},
   "outputs": [],
   "source": []
  }
 ],
 "metadata": {
  "kernelspec": {
   "display_name": "Python 3 (ipykernel)",
   "language": "python",
   "name": "python3"
  },
  "language_info": {
   "codemirror_mode": {
    "name": "ipython",
    "version": 3
   },
   "file_extension": ".py",
   "mimetype": "text/x-python",
   "name": "python",
   "nbconvert_exporter": "python",
   "pygments_lexer": "ipython3",
   "version": "3.11.0"
  }
 },
 "nbformat": 4,
 "nbformat_minor": 5
}
